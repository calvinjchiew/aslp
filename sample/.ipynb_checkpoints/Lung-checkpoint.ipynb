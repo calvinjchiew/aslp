{
 "cells": [
  {
   "cell_type": "markdown",
   "metadata": {},
   "source": [
    "# Applied Statistical Learning in Python\n",
    "\n",
    "## Sample Code: Lung Cancer Diagnosis"
   ]
  },
  {
   "cell_type": "markdown",
   "metadata": {},
   "source": [
    "You are given a dataset of 1105 chest X-ray (CXR) images, each described by 102 attributes and a label, where 1 indicates malignant lung cancer, and 0 indicates benign tumour. Your task is to build a classification model to predict whether a given CXR shows a malignant or benign tumour."
   ]
  },
  {
   "cell_type": "code",
   "execution_count": 1,
   "metadata": {
    "collapsed": true
   },
   "outputs": [],
   "source": [
    "import numpy as np\n",
    "import pandas as pd\n",
    "import scipy as sp\n",
    "from sklearn.model_selection import train_test_split, GridSearchCV\n",
    "from sklearn.linear_model import LogisticRegression\n",
    "from sklearn.ensemble import RandomForestClassifier\n",
    "from sklearn.svm import SVC\n",
    "from sklearn.metrics import roc_curve, auc\n",
    "import matplotlib\n",
    "import matplotlib.pyplot as plt\n",
    "%matplotlib inline"
   ]
  },
  {
   "cell_type": "markdown",
   "metadata": {},
   "source": [
    "## Data Preparation"
   ]
  },
  {
   "cell_type": "code",
   "execution_count": 2,
   "metadata": {},
   "outputs": [
    {
     "data": {
      "text/html": [
       "<div>\n",
       "<style>\n",
       "    .dataframe thead tr:only-child th {\n",
       "        text-align: right;\n",
       "    }\n",
       "\n",
       "    .dataframe thead th {\n",
       "        text-align: left;\n",
       "    }\n",
       "\n",
       "    .dataframe tbody tr th {\n",
       "        vertical-align: top;\n",
       "    }\n",
       "</style>\n",
       "<table border=\"1\" class=\"dataframe\">\n",
       "  <thead>\n",
       "    <tr style=\"text-align: right;\">\n",
       "      <th></th>\n",
       "      <th>v0</th>\n",
       "      <th>v1</th>\n",
       "      <th>v2</th>\n",
       "      <th>v3</th>\n",
       "      <th>v4</th>\n",
       "      <th>v5</th>\n",
       "      <th>v6</th>\n",
       "      <th>v7</th>\n",
       "      <th>v8</th>\n",
       "      <th>v9</th>\n",
       "      <th>...</th>\n",
       "      <th>v93</th>\n",
       "      <th>v94</th>\n",
       "      <th>v95</th>\n",
       "      <th>v96</th>\n",
       "      <th>v97</th>\n",
       "      <th>v98</th>\n",
       "      <th>v99</th>\n",
       "      <th>v100</th>\n",
       "      <th>v101</th>\n",
       "      <th>label</th>\n",
       "    </tr>\n",
       "  </thead>\n",
       "  <tbody>\n",
       "    <tr>\n",
       "      <th>0</th>\n",
       "      <td>3.639636</td>\n",
       "      <td>1.228248</td>\n",
       "      <td>0.110404</td>\n",
       "      <td>-1.003732</td>\n",
       "      <td>-1.102129</td>\n",
       "      <td>-1.011640</td>\n",
       "      <td>-0.106856</td>\n",
       "      <td>-0.630868</td>\n",
       "      <td>-1.126608</td>\n",
       "      <td>-0.048744</td>\n",
       "      <td>...</td>\n",
       "      <td>-1.405700</td>\n",
       "      <td>0.033063</td>\n",
       "      <td>0.092675</td>\n",
       "      <td>2.071139</td>\n",
       "      <td>-1.159186</td>\n",
       "      <td>0.285666</td>\n",
       "      <td>1.691165</td>\n",
       "      <td>-0.413781</td>\n",
       "      <td>-1.577695</td>\n",
       "      <td>0</td>\n",
       "    </tr>\n",
       "    <tr>\n",
       "      <th>1</th>\n",
       "      <td>-0.164889</td>\n",
       "      <td>0.401110</td>\n",
       "      <td>0.555741</td>\n",
       "      <td>0.083018</td>\n",
       "      <td>1.248687</td>\n",
       "      <td>0.419196</td>\n",
       "      <td>-0.132630</td>\n",
       "      <td>-1.011638</td>\n",
       "      <td>1.189815</td>\n",
       "      <td>-0.558548</td>\n",
       "      <td>...</td>\n",
       "      <td>0.990005</td>\n",
       "      <td>-0.234665</td>\n",
       "      <td>0.486476</td>\n",
       "      <td>0.156383</td>\n",
       "      <td>-0.079373</td>\n",
       "      <td>-0.167362</td>\n",
       "      <td>-0.581883</td>\n",
       "      <td>-0.981381</td>\n",
       "      <td>0.772401</td>\n",
       "      <td>0</td>\n",
       "    </tr>\n",
       "    <tr>\n",
       "      <th>2</th>\n",
       "      <td>0.466852</td>\n",
       "      <td>-0.362214</td>\n",
       "      <td>0.290673</td>\n",
       "      <td>0.358680</td>\n",
       "      <td>0.288683</td>\n",
       "      <td>0.169915</td>\n",
       "      <td>-0.130182</td>\n",
       "      <td>0.823796</td>\n",
       "      <td>0.271589</td>\n",
       "      <td>1.069925</td>\n",
       "      <td>...</td>\n",
       "      <td>0.685890</td>\n",
       "      <td>0.035272</td>\n",
       "      <td>0.249075</td>\n",
       "      <td>-0.584769</td>\n",
       "      <td>-0.635233</td>\n",
       "      <td>0.389731</td>\n",
       "      <td>-0.506207</td>\n",
       "      <td>-0.706763</td>\n",
       "      <td>-0.805263</td>\n",
       "      <td>0</td>\n",
       "    </tr>\n",
       "    <tr>\n",
       "      <th>3</th>\n",
       "      <td>-0.385892</td>\n",
       "      <td>-1.351414</td>\n",
       "      <td>1.010566</td>\n",
       "      <td>-1.212319</td>\n",
       "      <td>-1.914623</td>\n",
       "      <td>-1.130040</td>\n",
       "      <td>-0.014538</td>\n",
       "      <td>-0.587020</td>\n",
       "      <td>-1.906679</td>\n",
       "      <td>1.019006</td>\n",
       "      <td>...</td>\n",
       "      <td>-1.878473</td>\n",
       "      <td>0.494254</td>\n",
       "      <td>0.856842</td>\n",
       "      <td>2.750338</td>\n",
       "      <td>0.224587</td>\n",
       "      <td>0.470562</td>\n",
       "      <td>2.985488</td>\n",
       "      <td>-1.552287</td>\n",
       "      <td>1.107159</td>\n",
       "      <td>0</td>\n",
       "    </tr>\n",
       "    <tr>\n",
       "      <th>4</th>\n",
       "      <td>-0.188841</td>\n",
       "      <td>0.987212</td>\n",
       "      <td>-0.480216</td>\n",
       "      <td>0.162236</td>\n",
       "      <td>0.687001</td>\n",
       "      <td>-0.090172</td>\n",
       "      <td>-0.113926</td>\n",
       "      <td>-0.618971</td>\n",
       "      <td>0.607489</td>\n",
       "      <td>-0.471608</td>\n",
       "      <td>...</td>\n",
       "      <td>0.734663</td>\n",
       "      <td>-0.070419</td>\n",
       "      <td>-0.408618</td>\n",
       "      <td>1.122769</td>\n",
       "      <td>-1.219642</td>\n",
       "      <td>-0.058283</td>\n",
       "      <td>-0.431281</td>\n",
       "      <td>0.116943</td>\n",
       "      <td>1.555012</td>\n",
       "      <td>0</td>\n",
       "    </tr>\n",
       "  </tbody>\n",
       "</table>\n",
       "<p>5 rows × 103 columns</p>\n",
       "</div>"
      ],
      "text/plain": [
       "         v0        v1        v2        v3        v4        v5        v6  \\\n",
       "0  3.639636  1.228248  0.110404 -1.003732 -1.102129 -1.011640 -0.106856   \n",
       "1 -0.164889  0.401110  0.555741  0.083018  1.248687  0.419196 -0.132630   \n",
       "2  0.466852 -0.362214  0.290673  0.358680  0.288683  0.169915 -0.130182   \n",
       "3 -0.385892 -1.351414  1.010566 -1.212319 -1.914623 -1.130040 -0.014538   \n",
       "4 -0.188841  0.987212 -0.480216  0.162236  0.687001 -0.090172 -0.113926   \n",
       "\n",
       "         v7        v8        v9  ...         v93       v94       v95  \\\n",
       "0 -0.630868 -1.126608 -0.048744  ...   -1.405700  0.033063  0.092675   \n",
       "1 -1.011638  1.189815 -0.558548  ...    0.990005 -0.234665  0.486476   \n",
       "2  0.823796  0.271589  1.069925  ...    0.685890  0.035272  0.249075   \n",
       "3 -0.587020 -1.906679  1.019006  ...   -1.878473  0.494254  0.856842   \n",
       "4 -0.618971  0.607489 -0.471608  ...    0.734663 -0.070419 -0.408618   \n",
       "\n",
       "        v96       v97       v98       v99      v100      v101  label  \n",
       "0  2.071139 -1.159186  0.285666  1.691165 -0.413781 -1.577695      0  \n",
       "1  0.156383 -0.079373 -0.167362 -0.581883 -0.981381  0.772401      0  \n",
       "2 -0.584769 -0.635233  0.389731 -0.506207 -0.706763 -0.805263      0  \n",
       "3  2.750338  0.224587  0.470562  2.985488 -1.552287  1.107159      0  \n",
       "4  1.122769 -1.219642 -0.058283 -0.431281  0.116943  1.555012      0  \n",
       "\n",
       "[5 rows x 103 columns]"
      ]
     },
     "execution_count": 2,
     "metadata": {},
     "output_type": "execute_result"
    }
   ],
   "source": [
    "# load and inspect the data\n",
    "data = pd.read_csv('lungsample.csv')\n",
    "data.head()"
   ]
  },
  {
   "cell_type": "code",
   "execution_count": 3,
   "metadata": {},
   "outputs": [
    {
     "data": {
      "text/plain": [
       "(1105, 103)"
      ]
     },
     "execution_count": 3,
     "metadata": {},
     "output_type": "execute_result"
    }
   ],
   "source": [
    "data.shape"
   ]
  },
  {
   "cell_type": "code",
   "execution_count": 4,
   "metadata": {},
   "outputs": [
    {
     "name": "stdout",
     "output_type": "stream",
     "text": [
      "x: (1105, 102)\n",
      "y: (1105,)\n"
     ]
    }
   ],
   "source": [
    "# prepare predictor and response arrays from data\n",
    "x = data.values[:, 0:102]\n",
    "y = data.values[:, 102]\n",
    "print ('x:', x.shape)\n",
    "print ('y:', y.shape)"
   ]
  },
  {
   "cell_type": "markdown",
   "metadata": {},
   "source": [
    "<i>I will now split the data into training (70%) and testing (30%) sets, and check that their dimensions are correct.</i>"
   ]
  },
  {
   "cell_type": "code",
   "execution_count": 5,
   "metadata": {},
   "outputs": [
    {
     "name": "stdout",
     "output_type": "stream",
     "text": [
      "Train set:  (773, 102)\n",
      "Test set:  (332, 102)\n",
      "Train benign: 481, Train malignant: 292\n",
      "Test benign: 194, Test malignant: 138\n"
     ]
    }
   ],
   "source": [
    "# split the data into training and testing sets\n",
    "x_train, x_test, y_train, y_test = train_test_split(x, y, test_size=0.3, random_state=123)\n",
    "\n",
    "# sanity check\n",
    "print ('Train set: ', x_train.shape)\n",
    "print ('Test set: ', x_test.shape)\n",
    "print ('Train benign: {}, Train malignant: {}'.format(len(y_train[y_train==0]), len(y_train[y_train==1])))\n",
    "print ('Test benign: {}, Test malignant: {}'.format(len(y_test[y_test==0]), len(y_test[y_test==1])))"
   ]
  },
  {
   "cell_type": "markdown",
   "metadata": {},
   "source": [
    "## Model Building"
   ]
  },
  {
   "cell_type": "markdown",
   "metadata": {},
   "source": [
    "<i>I will now proceed to train 2 classifiers using random forest and support vector machine, and evaluate their performance using test accuracy, sensitivity and specificity.</i>"
   ]
  },
  {
   "cell_type": "code",
   "execution_count": 6,
   "metadata": {
    "collapsed": true
   },
   "outputs": [],
   "source": [
    "# function for computing the overall test accuracy, sensitivity and specificity of a given model\n",
    "score = lambda model, x_test, y_test: pd.Series([model.score(x_test, y_test), \n",
    "                                                 model.score(x_test[y_test==0], y_test[y_test==0]),\n",
    "                                                 model.score(x_test[y_test==1], y_test[y_test==1])],\n",
    "                                                index=['Overall test accuracy', 'Accuracy on benign (Specificity)', 'Accuracy on malignant (Sensitivity)'])"
   ]
  },
  {
   "cell_type": "code",
   "execution_count": 7,
   "metadata": {},
   "outputs": [
    {
     "data": {
      "text/html": [
       "<div>\n",
       "<style>\n",
       "    .dataframe thead tr:only-child th {\n",
       "        text-align: right;\n",
       "    }\n",
       "\n",
       "    .dataframe thead th {\n",
       "        text-align: left;\n",
       "    }\n",
       "\n",
       "    .dataframe tbody tr th {\n",
       "        vertical-align: top;\n",
       "    }\n",
       "</style>\n",
       "<table border=\"1\" class=\"dataframe\">\n",
       "  <thead>\n",
       "    <tr style=\"text-align: right;\">\n",
       "      <th></th>\n",
       "      <th>Random Forest</th>\n",
       "      <th>SVM</th>\n",
       "    </tr>\n",
       "  </thead>\n",
       "  <tbody>\n",
       "    <tr>\n",
       "      <th>Overall test accuracy</th>\n",
       "      <td>0.858434</td>\n",
       "      <td>0.849398</td>\n",
       "    </tr>\n",
       "    <tr>\n",
       "      <th>Accuracy on benign (Specificity)</th>\n",
       "      <td>0.912371</td>\n",
       "      <td>0.871134</td>\n",
       "    </tr>\n",
       "    <tr>\n",
       "      <th>Accuracy on malignant (Sensitivity)</th>\n",
       "      <td>0.782609</td>\n",
       "      <td>0.818841</td>\n",
       "    </tr>\n",
       "  </tbody>\n",
       "</table>\n",
       "</div>"
      ],
      "text/plain": [
       "                                     Random Forest       SVM\n",
       "Overall test accuracy                     0.858434  0.849398\n",
       "Accuracy on benign (Specificity)          0.912371  0.871134\n",
       "Accuracy on malignant (Sensitivity)       0.782609  0.818841"
      ]
     },
     "execution_count": 7,
     "metadata": {},
     "output_type": "execute_result"
    }
   ],
   "source": [
    "# random forest\n",
    "rf = RandomForestClassifier(class_weight='balanced', n_estimators=30)\n",
    "rf.fit(x_train, y_train)\n",
    "rf_scores = score(rf, x_test, y_test)\n",
    "\n",
    "# svm\n",
    "svm = SVC(class_weight='balanced')\n",
    "svm.fit(x_train, y_train)\n",
    "svm_scores = score(svm, x_test, y_test)\n",
    "\n",
    "# present scores in a dataframe\n",
    "score_df = pd.DataFrame({'Random Forest': rf_scores, 'SVM': svm_scores})\n",
    "score_df"
   ]
  },
  {
   "cell_type": "markdown",
   "metadata": {},
   "source": [
    "## Parameter Tuning"
   ]
  },
  {
   "cell_type": "markdown",
   "metadata": {},
   "source": [
    "<i>Now, I will try to tune the parameters of the random forest and SVM models, and see if they can perform better. For random forest, I will use 5-fold cross-validation to find the best max depth of trees. For SVM, I will use 5-fold cross-validation to find the best regularization parameter C.</i>"
   ]
  },
  {
   "cell_type": "code",
   "execution_count": 8,
   "metadata": {},
   "outputs": [
    {
     "name": "stdout",
     "output_type": "stream",
     "text": [
      "Test accuracy for random forest model with {'max_depth': 6}: 0.8463855421686747\n"
     ]
    }
   ],
   "source": [
    "# tune random forest\n",
    "parameters = {'max_depth': range(1, 10)}\n",
    "rf = RandomForestClassifier(class_weight='balanced', n_estimators=30)\n",
    "rf_tuned = GridSearchCV(rf, parameters, cv=5)\n",
    "rf_tuned.fit(x_train, y_train)\n",
    "print ('Test accuracy for random forest model with {}: {}'.format(rf_tuned.best_params_, score(rf_tuned, x_test, y_test)[0]))"
   ]
  },
  {
   "cell_type": "code",
   "execution_count": 9,
   "metadata": {},
   "outputs": [
    {
     "name": "stdout",
     "output_type": "stream",
     "text": [
      "Test accuracy for SVM model with {'C': 0.1}: 0.8554216867469879\n"
     ]
    }
   ],
   "source": [
    "# tune svm\n",
    "parameters = {'C': [0.001, 0.01, 0.1, 1, 10, 100]}\n",
    "svm = SVC(class_weight='balanced', kernel='linear')\n",
    "svm_tuned = GridSearchCV(svm, parameters, cv=5)\n",
    "svm_tuned.fit(x_train, y_train)\n",
    "print ('Test accuracy for SVM model with {}: {}'.format(svm_tuned.best_params_, score(svm_tuned, x_test, y_test)[0]))"
   ]
  },
  {
   "cell_type": "markdown",
   "metadata": {},
   "source": [
    "## Model Evaluation"
   ]
  },
  {
   "cell_type": "markdown",
   "metadata": {},
   "source": [
    "<i>Now, I will plot the Receiver Operating Characteristic (ROC) curves for the 2 models to compare their areas under the curve.</i>"
   ]
  },
  {
   "cell_type": "code",
   "execution_count": 10,
   "metadata": {},
   "outputs": [
    {
     "data": {
      "image/png": "[encoded data removed]",
      "text/plain": [
       "<matplotlib.figure.Figure at 0x26a741d0ef0>"
      ]
     },
     "metadata": {},
     "output_type": "display_data"
    }
   ],
   "source": [
    "fpr = dict()\n",
    "tpr = dict()\n",
    "roc_auc = dict()\n",
    "\n",
    "# random forest\n",
    "rf = RandomForestClassifier(class_weight='balanced', n_estimators=30, max_depth=6)\n",
    "rf_probas = rf.fit(x_train, y_train).predict_proba(x_test)\n",
    "fpr[\"RF\"], tpr[\"RF\"], _ = roc_curve(y_test, rf_probas[:, 1])\n",
    "roc_auc[\"RF\"] = auc(fpr[\"RF\"], tpr[\"RF\"])\n",
    "\n",
    "# svm\n",
    "svm = SVC(class_weight='balanced', kernel='linear', C=0.1)\n",
    "svm_probas = svm.fit(x_train, y_train).decision_function(x_test)\n",
    "fpr[\"SVM\"], tpr[\"SVM\"], _ = roc_curve(y_test, svm_probas)\n",
    "roc_auc[\"SVM\"] = auc(fpr[\"SVM\"], tpr[\"SVM\"])\n",
    "\n",
    "# plot\n",
    "plt.figure()\n",
    "plt.plot(fpr[\"RF\"], tpr[\"RF\"], color='darkviolet', lw=2, label='RF (AUC = %0.2f)' % roc_auc[\"RF\"])\n",
    "plt.plot(fpr[\"SVM\"], tpr[\"SVM\"], color='darkorange', lw=2, label='SVM (AUC = %0.2f)' % roc_auc[\"SVM\"])\n",
    "plt.plot([0, 1], [0, 1], color='navy', lw=2, linestyle='--')\n",
    "plt.xlabel('False Positive Rate')\n",
    "plt.ylabel('True Positive Rate')\n",
    "plt.title('ROC Curves')\n",
    "plt.legend(loc=\"lower right\")\n",
    "plt.show()"
   ]
  },
  {
   "cell_type": "markdown",
   "metadata": {},
   "source": [
    "<i>I will now visualize the top 5 most predictive features and their relative importance in the random forest model.</i>"
   ]
  },
  {
   "cell_type": "code",
   "execution_count": 11,
   "metadata": {},
   "outputs": [
    {
     "data": {
      "image/png": "[encoded data removed]",
      "text/plain": [
       "<matplotlib.figure.Figure at 0x26a731ed160>"
      ]
     },
     "metadata": {},
     "output_type": "display_data"
    }
   ],
   "source": [
    "# obtain feature importance list and sort\n",
    "importances = rf.feature_importances_\n",
    "indices = np.argsort(importances)\n",
    "top5_indices = indices[-5:]\n",
    "\n",
    "# extract gene names\n",
    "features = data.columns\n",
    "\n",
    "# plot\n",
    "plt.title('Top 5 Predictive Features')\n",
    "plt.barh(range(len(top5_indices)), importances[top5_indices], color='blue', align='center')\n",
    "plt.yticks(range(len(top5_indices)), features[top5_indices])\n",
    "plt.xlabel('Relative Importance')\n",
    "plt.show()"
   ]
  }
 ],
 "metadata": {
  "anaconda-cloud": {},
  "kernelspec": {
   "display_name": "Python [ipykernel_py3]",
   "language": "python",
   "name": "Python [ipykernel_py3]"
  },
  "language_info": {
   "codemirror_mode": {
    "name": "ipython",
    "version": 3
   },
   "file_extension": ".py",
   "mimetype": "text/x-python",
   "name": "python",
   "nbconvert_exporter": "python",
   "pygments_lexer": "ipython3",
   "version": "3.6.4"
  }
 },
 "nbformat": 4,
 "nbformat_minor": 1
}
